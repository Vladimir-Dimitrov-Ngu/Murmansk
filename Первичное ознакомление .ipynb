{
 "cells": [
  {
   "cell_type": "code",
   "execution_count": 5,
   "id": "e5c48631",
   "metadata": {},
   "outputs": [],
   "source": [
    "from tqdm import tqdm, trange\n",
    "import pandas as pd \n",
    "import numpy as np\n",
    "import matplotlib.pyplot as plt \n",
    "import docx\n",
    "import warnings\n",
    "import re\n",
    "warnings.filterwarnings('ignore')"
   ]
  },
  {
   "cell_type": "markdown",
   "id": "d12ba83f",
   "metadata": {},
   "source": [
    "## Предпросмотр данных"
   ]
  },
  {
   "cell_type": "code",
   "execution_count": 108,
   "id": "eb5c6738",
   "metadata": {},
   "outputs": [],
   "source": [
    "interesting_features = ['Мгновенная механическая скорость бурения ', 'Частота вращения шпинделя', 'Индекс углубки', \n",
    "                       'Глубина скважины (м)', 'Крутящий момент на шпинделе', 'Давление промывочной жидкости', \n",
    "                       'Расход топлива мгновенный в час по шине CAN', 'Расход промывочной жидкости', 'Осевая нагрузка']"
   ]
  },
  {
   "cell_type": "code",
   "execution_count": 109,
   "id": "fe077a8a",
   "metadata": {},
   "outputs": [],
   "source": [
    "check = pd.read_csv('Result_23.csv')"
   ]
  },
  {
   "cell_type": "code",
   "execution_count": 118,
   "id": "1344d039",
   "metadata": {},
   "outputs": [
    {
     "name": "stderr",
     "output_type": "stream",
     "text": [
      "Обработка признаков: 100%|██████████████████████████████████████████████████████████████████████████████████████████████████████████████████████████████████████████████████████████| 9/9 [00:01<00:00,  4.76it/s]\n"
     ]
    }
   ],
   "source": [
    "dt = pd.DataFrame()\n",
    "for feature in tqdm(interesting_features, desc = 'Обработка признаков'):\n",
    "    dt = dt.append(check[check['DESCRIPTION'] == feature][['VALUE', 'TIMESTAMP', 'DESCRIPTION']])\n",
    "dt = dt.drop_duplicates()\n",
    "# dt.to_csv('first_preprocessing.csv', encoding = 'utf-32')\n",
    "df = dt.pivot_table(index = 'TIMESTAMP', columns = ['DESCRIPTION'], values = ['VALUE'])\n",
    "df.reset_index(drop = False, inplace = True)\n",
    "df['TIMESTAMP'] = df['TIMESTAMP'].replace(to_replace = '\\.\\d\\d\\d', value = '', regex = True)\n",
    "timestamp = pd.to_datetime(df['TIMESTAMP'], format = '%Y-%m-%d %H:%M:%S')\n",
    "df['TIMESTAMP'] = timestamp"
   ]
  },
  {
   "cell_type": "code",
   "execution_count": 206,
   "id": "b30bc7c9",
   "metadata": {},
   "outputs": [
    {
     "ename": "TypeError",
     "evalue": "droplevel() got an unexpected keyword argument 'inplace'",
     "output_type": "error",
     "traceback": [
      "\u001b[1;31m---------------------------------------------------------------------------\u001b[0m",
      "\u001b[1;31mTypeError\u001b[0m                                 Traceback (most recent call last)",
      "\u001b[1;32m~\\AppData\\Local\\Temp\\ipykernel_6508\\4195246934.py\u001b[0m in \u001b[0;36m<module>\u001b[1;34m\u001b[0m\n\u001b[1;32m----> 1\u001b[1;33m \u001b[0mdf\u001b[0m\u001b[1;33m.\u001b[0m\u001b[0mcolumns\u001b[0m\u001b[1;33m.\u001b[0m\u001b[0mdroplevel\u001b[0m\u001b[1;33m(\u001b[0m\u001b[1;36m0\u001b[0m\u001b[1;33m,\u001b[0m \u001b[0minplace\u001b[0m \u001b[1;33m=\u001b[0m \u001b[1;32mTrue\u001b[0m\u001b[1;33m)\u001b[0m\u001b[1;33m\u001b[0m\u001b[1;33m\u001b[0m\u001b[0m\n\u001b[0m",
      "\u001b[1;31mTypeError\u001b[0m: droplevel() got an unexpected keyword argument 'inplace'"
     ]
    }
   ],
   "source": [
    "df.columns.droplevel(0)"
   ]
  },
  {
   "cell_type": "code",
   "execution_count": 119,
   "id": "5d35a6a3",
   "metadata": {},
   "outputs": [
    {
     "name": "stdout",
     "output_type": "stream",
     "text": [
      "7015\n"
     ]
    }
   ],
   "source": [
    "print(df.isna().sum().sum())"
   ]
  },
  {
   "cell_type": "code",
   "execution_count": 129,
   "id": "bb39f246",
   "metadata": {},
   "outputs": [
    {
     "name": "stderr",
     "output_type": "stream",
     "text": [
      "Обработка пропусков: 100%|█████████████████████████████████████████████████████████████████████████████████████████████████████████████████████████████████████████████████| 91567/91567 [08:38<00:00, 176.45it/s]\n"
     ]
    }
   ],
   "source": [
    "total_sec = 60\n",
    "new = pd.DataFrame()\n",
    "for i in trange(df.shape[0], desc = 'Обработка пропусков'):\n",
    "    if i == 0:\n",
    "        if (df['TIMESTAMP'].iloc[i + 1] - df['TIMESTAMP'].iloc[i]).total_seconds() < total_sec:\n",
    "            df.iloc[i: i + 2].fillna(method = 'bfill', inplace = True)\n",
    "    elif i == df.shape[0] - 1:\n",
    "        if (df['TIMESTAMP'].iloc[i] - df['TIMESTAMP'].iloc[i - 1]).total_seconds() < total_sec:\n",
    "            df.iloc[i-1:i+1].fillna(method = 'ffill', inplace = True)\n",
    "    else:\n",
    "        if (df['TIMESTAMP'].iloc[i] - df['TIMESTAMP'].iloc[i - 1]).total_seconds() < total_sec:\n",
    "            df.iloc[i-1:i+1].fillna(method = 'ffill', inplace = True)\n",
    "        if (df['TIMESTAMP'].iloc[i + 1] - df['TIMESTAMP'].iloc[i]).total_seconds() < total_sec:\n",
    "            df.iloc[i: i + 2].fillna(method = 'bfill', inplace = True)"
   ]
  },
  {
   "cell_type": "code",
   "execution_count": 142,
   "id": "ecd0ed49",
   "metadata": {},
   "outputs": [
    {
     "name": "stdout",
     "output_type": "stream",
     "text": [
      "3546\n"
     ]
    }
   ],
   "source": [
    "print(7015 - df.isna().sum().sum())"
   ]
  },
  {
   "cell_type": "code",
   "execution_count": 146,
   "id": "d7b09b92",
   "metadata": {},
   "outputs": [],
   "source": [
    "df.dropna(inplace = True)"
   ]
  },
  {
   "cell_type": "markdown",
   "id": "426e173c",
   "metadata": {},
   "source": [
    "### Детекция на выбросы"
   ]
  },
  {
   "cell_type": "code",
   "execution_count": 165,
   "id": "496c911a",
   "metadata": {},
   "outputs": [],
   "source": [
    "interesting_features = list(df.columns)[1:14]"
   ]
  },
  {
   "cell_type": "markdown",
   "id": "59b58211",
   "metadata": {},
   "source": [
    "#### z-score"
   ]
  },
  {
   "cell_type": "code",
   "execution_count": 187,
   "id": "c74fb357",
   "metadata": {},
   "outputs": [],
   "source": [
    "from scipy import stats\n",
    "threshold = 2\n",
    "dict_out_feat_z = {}\n",
    "for feature in interesting_features:\n",
    "    z = np.abs(stats.zscore(df[feature]))\n",
    "    dict_out_feat_z[feature] = set(np.where(z > 2)[0])\n",
    "set_all = set()\n",
    "for feature in interesting_features:\n",
    "    set_all = set_all|dict_out_feat_z[feature]b"
   ]
  },
  {
   "cell_type": "markdown",
   "id": "8e504818",
   "metadata": {},
   "source": [
    "#### IQR-test"
   ]
  },
  {
   "cell_type": "code",
   "execution_count": 242,
   "id": "a1f87c04",
   "metadata": {},
   "outputs": [
    {
     "data": {
      "text/plain": [
       "(array([], dtype=int64),)"
      ]
     },
     "execution_count": 242,
     "metadata": {},
     "output_type": "execute_result"
    }
   ],
   "source": [
    "np.where(df[feature] <= lower)"
   ]
  },
  {
   "cell_type": "code",
   "execution_count": 244,
   "id": "395d7915",
   "metadata": {},
   "outputs": [],
   "source": [
    "dict_out_feat_iqr = {}\n",
    "for feature in interesting_features:\n",
    "    Q1 = np.percentile(df[feature], 25, interpolation='midpoint')\n",
    "    Q3 = np.percentile(df[feature], 75, interpolation='midpoint')\n",
    "    IQR = Q3 - Q1\n",
    "    upper=Q3+1.5*IQR\n",
    "    lower=Q1-1.5*IQR\n",
    "    iqr = np.where((df[feature] < lower) | (df[feature] > upper))\n",
    "    dict_out_feat_iqr[feature] = iqr"
   ]
  },
  {
   "cell_type": "markdown",
   "id": "1ad64af5",
   "metadata": {},
   "source": [
    "### Обучение алгоритма"
   ]
  },
  {
   "cell_type": "markdown",
   "id": "ec05df8a",
   "metadata": {},
   "source": [
    "#### Классический ML"
   ]
  },
  {
   "cell_type": "code",
   "execution_count": 395,
   "id": "efa80b61",
   "metadata": {},
   "outputs": [],
   "source": [
    "from sklearn.linear_model import LinearRegression, Lasso, Ridge\n",
    "from sklearn.model_selection import train_test_split\n",
    "from sklearn.metrics import mean_squared_error, mean_absolute_error, r2_score\n",
    "from sklearn.model_selection import GridSearchCV"
   ]
  },
  {
   "cell_type": "code",
   "execution_count": 396,
   "id": "8d33c302",
   "metadata": {},
   "outputs": [],
   "source": [
    "target = [('VALUE','Частота вращения шпинделя')]\n",
    "rmse = []\n",
    "mse = []\n",
    "r2 = []\n",
    "mae = []\n",
    "best_estimator = []\n",
    "estimator = []\n",
    "linear_models = [LinearRegression(), Lasso(), Ridge()]"
   ]
  },
  {
   "cell_type": "code",
   "execution_count": 397,
   "id": "00e2db00",
   "metadata": {},
   "outputs": [],
   "source": [
    "X = df.drop(target + [df.columns[0]], axis = 1)\n",
    "y = df[target]\n",
    "parameters = {'alpha': np.arange(1, 100, 10)}"
   ]
  },
  {
   "cell_type": "code",
   "execution_count": 398,
   "id": "62ea8636",
   "metadata": {},
   "outputs": [],
   "source": [
    "for linear_model in linear_models:\n",
    "    X_train, X_test, y_train, y_test = train_test_split(X, y, train_size=0.9, shuffle=True, random_state=123)\n",
    "    linear = linear_model\n",
    "    linear.fit(X_train, y_train)\n",
    "    y_pred = linear.predict(X_test)\n",
    "    mse.append(round(mean_squared_error(y_test, y_pred), 1))\n",
    "    rmse.append(round(mean_squared_error(y_test, y_pred) ** 0.5, 1))\n",
    "    mae.append(round(mean_absolute_error(y_test, y_pred), 1))\n",
    "    r2.append(round(r2_score(y_test, y_pred), 2))\n",
    "    best_estimator.append('-')\n",
    "    estimator.append(f'{str(linear_model).replace(\"()\", \"\")}')\n",
    "    if f'{linear_model}' == 'Ridge()' or f'{linear_model}' == 'Lasso()':\n",
    "        linear= GridSearchCV(linear_model, parameters, scoring='neg_mean_squared_error',cv=5)\n",
    "        linear.fit(X_train, y_train)\n",
    "        y_pred = linear.predict(X_test)\n",
    "        mse.append(round(mean_squared_error(y_test, y_pred), 1))\n",
    "        rmse.append(round(mean_squared_error(y_test, y_pred) ** 0.5, 1))\n",
    "        mae.append(round(mean_absolute_error(y_test, y_pred), 1))\n",
    "        r2.append(round(r2_score(y_test, y_pred), 2))\n",
    "        best_estimator.append(f'{linear.best_estimator_}')\n",
    "        estimator.append(f'{str(linear_model).replace(\"()\", \"\")}' + \" opt\")\n"
   ]
  },
  {
   "cell_type": "code",
   "execution_count": 399,
   "id": "96a54196",
   "metadata": {},
   "outputs": [],
   "source": [
    "dict_metrics = {'estimator': estimator,\n",
    "              'mse': mse,\n",
    "              'rmse': rmse,\n",
    "              'r2': r2,\n",
    "              'mae': mae,\n",
    "              'best_estimator': best_estimator}\n",
    "metrics = pd.DataFrame(dict_metrics)"
   ]
  },
  {
   "cell_type": "markdown",
   "id": "9dc99492",
   "metadata": {},
   "source": [
    "## Создание документа"
   ]
  },
  {
   "cell_type": "code",
   "execution_count": 402,
   "id": "61f54902",
   "metadata": {},
   "outputs": [],
   "source": [
    "doc = docx.Document()\n",
    "# задаем стиль текста по умолчанию\n",
    "style = doc.styles['Normal']\n",
    "# название шрифта\n",
    "style.font.name = 'Times New Roman'\n",
    "# размер шрифта\n",
    "style.font.size = docx.shared.Pt(14)"
   ]
  },
  {
   "cell_type": "code",
   "execution_count": 403,
   "id": "5e70a27f",
   "metadata": {},
   "outputs": [],
   "source": [
    "from docx.enum.text import WD_ALIGN_PARAGRAPH\n",
    "from docx.shared import Pt\n",
    "line_spacing = 1.75\n",
    "\n",
    "# заголовок 1\n",
    "head_1 = doc.add_heading('Запрос в SQL', level = 1)\n",
    "head_1.alignment = WD_ALIGN_PARAGRAPH.CENTER\n",
    "h_fmt = head_1.paragraph_format\n",
    "h_fmt.line_spacing = 1.75\n",
    "# параграф \n",
    "paragraph = doc.add_paragraph('SELECT df.ID, TIMESTAMP, dj.DESCRIPTION, VALUE  FROM DRILL_GEO_GAUGE_TRANS df \\n\\\n",
    "LEFT JOIN DRILL_GEO_GAUGE_TYPE dj ON dj.ID = df.GAUGE_TYPE_ID \\n\\\n",
    "ORDER BY df.ID;')\n",
    "p_fmt = paragraph.paragraph_format\n",
    "p_fmt.line_spacing = 1.75\n",
    "# заголовок 2\n",
    "head_2 = doc.add_heading('Первичный осмотр данных', level = 1)\n",
    "head_2.alignment = WD_ALIGN_PARAGRAPH.CENTER\n",
    "h_fmt = head_2.paragraph_format\n",
    "h_fmt.line_spacing = 1.75\n",
    "# параграф\n",
    "paragraph = doc.add_paragraph(f'Всего имеется {check.shape[0]} наблюдений.\\n\\\n",
    "Имееются следующие переменные: ')\n",
    "p_fmt = paragraph.paragraph_format\n",
    "p_fmt.line_spacing = 1.5\n",
    "for var in check['DESCRIPTION'].unique():\n",
    "    paragraph = doc.add_paragraph(f'{var}', style= 'List Number')\n",
    "    p_fmt = paragraph.paragraph_format\n",
    "    p_fmt.line_spacing = 1.75\n",
    "# табличка\n",
    "miss = check.isna().sum().reset_index()\n",
    "table = doc.add_table(rows=check.shape[1] + 1, cols=2, style='Table Grid')\n",
    "cell = table.cell(0, 0)\n",
    "cell.paragraphs[0].add_run('Название переменной')\n",
    "cell = table.cell(0, 1)\n",
    "cell.paragraphs[0].add_run('Количество пропусков')\n",
    "\n",
    "for column, value, index in zip(miss['index'], miss[0], range(1, miss.shape[0] + 1)):\n",
    "    cell = table.cell(index, 0)\n",
    "    cell.paragraphs[0].add_run(column)\n",
    "    cell = table.cell(index, 1)\n",
    "    cell.paragraphs[0].add_run(f'{value}')\n",
    "# параграф про дубликаты\n",
    "paragraph = doc.add_paragraph(f'Количество дубликатов в данных: \\\n",
    "{df.shape[0] - df.drop_duplicates().shape[0]} строчки')\n",
    "p_fmt = paragraph.paragraph_format\n",
    "p_fmt.line_spacing = 1.75\n",
    "\n",
    "# подглава про выбросы\n",
    "head_3 = doc.add_heading('Детекция выбросов', level = 2)\n",
    "head_2.alignment = WD_ALIGN_PARAGRAPH.CENTER\n",
    "h_fmt = head_2.paragraph_format\n",
    "h_fmt.line_spacing = 1.75\n",
    "\n",
    "# текст с табличкой \n",
    "paragparh = doc.add_paragraph('В таблице предоставленны данные о выбросах')\n",
    "p_fmt = paragraph.paragraph_format\n",
    "p_fmt.line_spacing = 1.75\n",
    "table = doc.add_table(rows = 5, cols = 9, style = 'Table Grid')\n",
    "cell = table.cell(0, 0)\n",
    "cell.paragraphs[0].add_run('Название метода\\Название переменной')\n",
    "cell = table.cell(1, 0)\n",
    "cell.paragraphs[0].add_run('z-score (абсолютный)')\n",
    "cell = table.cell(2, 0)\n",
    "cell.paragraphs[0].add_run('z-score (в процентах)')\n",
    "cell = table.cell(3, 0)\n",
    "cell.paragraphs[0].add_run('IQR (абсолютный)')\n",
    "cell = table.cell(4, 0)\n",
    "cell.paragraphs[0].add_run('IQR (в процентах)')\n",
    "for i in range(0, 8):\n",
    "    cell = table.cell(0, i + 1)\n",
    "    cell.paragraphs[0].add_run(df.columns.droplevel(0)[i + 1])\n",
    "    cell = table.cell(1, i + 1)\n",
    "    cell.paragraphs[0].add_run(f'{len(dict_out_feat_z[df.columns[i + 1]])}')\n",
    "    cell = table.cell(2, i + 1)\n",
    "    cell.paragraphs[0].add_run(f'{(len(dict_out_feat_z[df.columns[i + 1]]) / df.shape[0]) * 100 :.1f} %')\n",
    "    cell = table.cell(3, i + 1)\n",
    "    cell.paragraphs[0].add_run(f'{len(dict_out_feat_iqr[df.columns[i + 1]][0])}')\n",
    "    cell = table.cell(4, i + 1)\n",
    "    cell.paragraphs[0].add_run(f'{(len(dict_out_feat_iqr[df.columns[i + 1]][0]) / df.shape[0]) * 100:.1f} %')\n",
    "\n",
    "# новая глава: машинное обучение\n",
    "head_4 = doc.add_heading('Результаты машинного обучения', level = 1)\n",
    "table = doc.add_table(metrics.shape[0]+1, metrics.shape[1])\n",
    "for j in range(metrics.shape[-1]):\n",
    "    table.cell(0,j).text = metrics.columns[j]\n",
    "for i in range(metrics.shape[0]):\n",
    "    for j in range(metrics.shape[-1]):\n",
    "        table.cell(i+1,j).text = str(metrics.values[i,j])\n",
    "# сохранение \n",
    "doc.save('Первичный осмотр.docx')"
   ]
  }
 ],
 "metadata": {
  "kernelspec": {
   "display_name": "Python 3 (ipykernel)",
   "language": "python",
   "name": "python3"
  },
  "language_info": {
   "codemirror_mode": {
    "name": "ipython",
    "version": 3
   },
   "file_extension": ".py",
   "mimetype": "text/x-python",
   "name": "python",
   "nbconvert_exporter": "python",
   "pygments_lexer": "ipython3",
   "version": "3.9.13"
  },
  "varInspector": {
   "cols": {
    "lenName": 16,
    "lenType": 16,
    "lenVar": 40
   },
   "kernels_config": {
    "python": {
     "delete_cmd_postfix": "",
     "delete_cmd_prefix": "del ",
     "library": "var_list.py",
     "varRefreshCmd": "print(var_dic_list())"
    },
    "r": {
     "delete_cmd_postfix": ") ",
     "delete_cmd_prefix": "rm(",
     "library": "var_list.r",
     "varRefreshCmd": "cat(var_dic_list()) "
    }
   },
   "types_to_exclude": [
    "module",
    "function",
    "builtin_function_or_method",
    "instance",
    "_Feature"
   ],
   "window_display": false
  }
 },
 "nbformat": 4,
 "nbformat_minor": 5
}
